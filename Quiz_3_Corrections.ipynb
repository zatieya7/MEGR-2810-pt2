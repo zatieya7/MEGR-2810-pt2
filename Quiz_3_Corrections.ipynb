{
 "cells": [
  {
   "cell_type": "code",
   "execution_count": null,
   "id": "760c9e99",
   "metadata": {},
   "outputs": [
    {
     "ename": "NameError",
     "evalue": "name 'num' is not defined",
     "output_type": "error",
     "traceback": [
      "\u001b[31m---------------------------------------------------------------------------\u001b[39m",
      "\u001b[31mNameError\u001b[39m                                 Traceback (most recent call last)",
      "\u001b[36mCell\u001b[39m\u001b[36m \u001b[39m\u001b[32mIn[2]\u001b[39m\u001b[32m, line 3\u001b[39m\n\u001b[32m      1\u001b[39m \u001b[38;5;28;01mimport\u001b[39;00m\u001b[38;5;250m \u001b[39m\u001b[34;01mmath\u001b[39;00m \n\u001b[32m      2\u001b[39m x = \u001b[33m\"\u001b[39m\u001b[33m42.7\u001b[39m\u001b[33m\"\u001b[39m\n\u001b[32m----> \u001b[39m\u001b[32m3\u001b[39m \u001b[38;5;28mprint\u001b[39m(\u001b[38;5;28mtype\u001b[39m(\u001b[43mnum\u001b[49m)) \u001b[38;5;66;03m# It didnt work because num is not defined\u001b[39;00m\n",
      "\u001b[31mNameError\u001b[39m: name 'num' is not defined"
     ]
    }
   ],
   "source": [
    "# this was my first attempt on the quiz\n",
    "import math \n",
    "x = \"42.7\"\n",
    "print(type(num)) # It didnt work because num is not defined"
   ]
  },
  {
   "cell_type": "code",
   "execution_count": null,
   "id": "4c3a7b7f",
   "metadata": {},
   "outputs": [
    {
     "name": "stdout",
     "output_type": "stream",
     "text": [
      "<class 'int'>\n",
      "6\n"
     ]
    }
   ],
   "source": [
    "x = \"42\"\n",
    "num = int(x)\n",
    "print(type(num)) # It worked because num is now defined\n",
    "print (42 % 9)\n",
    "# I did it wrong because just understand what the question was asking me when I read it , so I made my own by mistake but I learned from it."
   ]
  },
  {
   "cell_type": "code",
   "execution_count": 5,
   "id": "e70956a0",
   "metadata": {},
   "outputs": [
    {
     "name": "stdout",
     "output_type": "stream",
     "text": [
      "The factorial of 67 is 36471110918188685288249859096605464427167635314049524593701628500267962436943872000000000000000\n"
     ]
    }
   ],
   "source": [
    "# this is the correct code for the last question\n",
    "# Ask the user for a number\n",
    "x = int(input(\"Enter a number to find its factorial: \"))\n",
    "\n",
    "# Initialize factorial\n",
    "factorial = 1\n",
    "\n",
    "# Compute factorial using a loop\n",
    "for i in range(1, x + 1):\n",
    "    factorial *= i\n",
    "\n",
    "# Display the result\n",
    "print(f\"The factorial of {x} is {factorial}\")\n"
   ]
  }
 ],
 "metadata": {
  "kernelspec": {
   "display_name": "Python 3",
   "language": "python",
   "name": "python3"
  },
  "language_info": {
   "codemirror_mode": {
    "name": "ipython",
    "version": 3
   },
   "file_extension": ".py",
   "mimetype": "text/x-python",
   "name": "python",
   "nbconvert_exporter": "python",
   "pygments_lexer": "ipython3",
   "version": "3.11.13"
  }
 },
 "nbformat": 4,
 "nbformat_minor": 5
}
