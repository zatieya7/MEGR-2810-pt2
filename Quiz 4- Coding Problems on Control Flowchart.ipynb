{
 "cells": [
  {
   "cell_type": "code",
   "execution_count": null,
   "id": "882ef362",
   "metadata": {},
   "outputs": [
    {
     "name": "stdout",
     "output_type": "stream",
     "text": [
      "Fourier number (Fo) = 0.0012\n",
      "*Initial stage*\n"
     ]
    }
   ],
   "source": [
    "# MEGR 2810 - Quiz #4\n",
    "# Fourier Number Classification\n",
    "\n",
    "# Set constants\n",
    "alpha = 1.165e-4   # thermal diffusivity (m^2/s)\n",
    "L = 0.01            # length (m)\n",
    "\n",
    "# Ask user for time\n",
    "t = float(input(\"Enter time in seconds: \"))\n",
    "\n",
    "# Calculate Fourier number\n",
    "Fo = (alpha * t) / (L ** 2)\n",
    "\n",
    "# Show result\n",
    "print(\"Fourier number (Fo) =\", round(Fo, 4))\n",
    "\n",
    "# Check heat transfer stage\n",
    "if Fo < 0.01:\n",
    "    print(\"*Initial stage*\")\n",
    "elif Fo <= 1:\n",
    "    print(\"*Transient conduction*\")\n",
    "else:\n",
    "    print(\"*Steady-state conduction*\")\n",
    "\n",
    "# when was taking the quiz i didnt know that we had a question on the back side of the quiz so thats why i left it blank put it was to write the code for the flowchart."
   ]
  }
 ],
 "metadata": {
  "kernelspec": {
   "display_name": "base",
   "language": "python",
   "name": "python3"
  },
  "language_info": {
   "codemirror_mode": {
    "name": "ipython",
    "version": 3
   },
   "file_extension": ".py",
   "mimetype": "text/x-python",
   "name": "python",
   "nbconvert_exporter": "python",
   "pygments_lexer": "ipython3",
   "version": "3.13.5"
  }
 },
 "nbformat": 4,
 "nbformat_minor": 5
}
